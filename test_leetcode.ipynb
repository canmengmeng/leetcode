{
 "cells": [
  {
   "cell_type": "code",
   "execution_count": 8,
   "metadata": {},
   "outputs": [
    {
     "name": "stdout",
     "output_type": "stream",
     "text": [
      "13\n"
     ]
    }
   ],
   "source": [
    "# \"0\"字符左边必有\"1\"字符的字符串数量\n",
    "N = input()\n",
    "dp = [0] * (int(N) + 1)\n",
    "dp[1] = 1\n",
    "dp[2] = 2\n",
    "dp[3] = 3\n",
    "for i in range(4, int(N) + 1):\n",
    "    # 如果当前字符是\"1\", dp[i] = dp[i-1]为1的可能 + dp[i-1]为0的可能\n",
    "    # 如果当前字符是\"0\", 不可能有这种情况\n",
    "    # 那么，dp[i-1]为1的可能就是dp[i-1], dp[i-1]为0的可能就是dp[i-2]\n",
    "    dp[i] = dp[i-1] + dp[i-2]\n",
    "print(dp[int(N)])\n",
    "\n",
    "# 经发现上一个公式就是斐波那契额数列，优化解法可以直接使用斐波那契的快速幂解法\n"
   ]
  },
  {
   "cell_type": "code",
   "execution_count": 4,
   "metadata": {},
   "outputs": [
    {
     "name": "stdout",
     "output_type": "stream",
     "text": [
      "bab\n"
     ]
    }
   ],
   "source": [
    "# 拼接所有字符串产生字典顺序最小的字符串\n",
    "strs = input().split(',')\n",
    "from functools import cmp_to_key\n",
    "strs = sorted(strs, key=cmp_to_key(lambda x, y: -1 if x+y < y+x else 1))\n",
    "print(''.join(strs))\n",
    "\n"
   ]
  },
  {
   "cell_type": "code",
   "execution_count": 6,
   "metadata": {},
   "outputs": [
    {
     "name": "stdout",
     "output_type": "stream",
     "text": [
      "4\n",
      "4\n"
     ]
    }
   ],
   "source": [
    "# 最长无重复字符子串\n",
    "s = input()\n",
    "max_len = 0\n",
    "for i in range(len(s)):\n",
    "    for j in range(i+1, len(s)):\n",
    "        if s[j] in s[i:j]:\n",
    "            break\n",
    "        max_len = max(max_len, j-i+1)\n",
    "print(max_len)\n",
    "\n",
    "\n",
    "# 双指针 + hashset\n",
    "char_set = set()\n",
    "left = 0\n",
    "for right in range(len(s)):\n",
    "    while s[right] in char_set:\n",
    "        char_set.remove(s[left])\n",
    "        left += 1\n",
    "    char_set.add(s[right])\n",
    "    max_len = max(max_len, right - left + 1)\n",
    "print(max_len)\n",
    "\n",
    "\n"
   ]
  },
  {
   "cell_type": "code",
   "execution_count": null,
   "metadata": {},
   "outputs": [],
   "source": [
    "# 最小包含子串的长度\n",
    "str1 = \"abcde\"\n",
    "str2 = \"ac\"\n",
    "ans = 3\n",
    "str1 = \"12345\"\n",
    "str2 = \"344\"\n",
    "ans = 0\n",
    "\n",
    "# 用str2先创建一个字符次数字典，dict2\n",
    "# 然后用str1使用左右指针依次便利，右指针一直走，每走一步dict2就减一，如果走到了末尾左指针还没有动，说明满足不了条件，直接返回0\n",
    "# 如果走到中间，发现dict2里面的值都为0了，说明这个区间已经包含了str2的所有字符，然后左指针开始动，直到最开始把str2的字典值增加那个索引，开始计算min结果\n",
    "def fun(str1, str2):\n",
    "    # 用str2先创建一个字符次数字典，dict2\n",
    "    dict2 = {}\n",
    "    for char in str2:\n",
    "        dict2[char] = dict2.get(char, 0) + 1\n",
    "\n",
    "    left = 0\n",
    "    right = 0\n",
    "    min_len = float('inf')\n",
    "    formed = len(dict2)\n",
    "\n",
    "    while right < len(str1):\n",
    "        char = str1[right]\n",
    "        if char in dict2:\n",
    "            dict2[char] -= 1\n",
    "            if dict2[char] == 0:\n",
    "                formed -= 1\n",
    "\n",
    "        while formed == 0:\n",
    "            current_window_length = right - left + 1\n",
    "            if current_window_length < min_len:\n",
    "                min_len = current_window_length\n",
    "\n",
    "            left_char = str1[left]\n",
    "            if left_char in dict2:\n",
    "                dict2[left_char] += 1\n",
    "                if dict2[left_char] > 0:\n",
    "                    formed += 1\n",
    "            left += 1\n",
    "\n",
    "        right += 1\n",
    "\n",
    "    return min_len if min_len != float('inf') else 0"
   ]
  },
  {
   "cell_type": "code",
   "execution_count": 31,
   "metadata": {},
   "outputs": [
    {
     "name": "stdout",
     "output_type": "stream",
     "text": [
      "2\n"
     ]
    }
   ],
   "source": [
    "# 回文最小分割数\n",
    "# 把str全部切成回文子串的最小切割数\n",
    "# 1. 先需要一个判断是不是回文的函数，若果str1自己就是回文，不用切直接返回 0，如果不是回文，就从是回文那里切开，递归求解\n",
    "def fun1(s):\n",
    "    if s == s[::-1]:\n",
    "        return 0\n",
    "    ans = float('inf')\n",
    "    for i in range(1, len(s)):\n",
    "        ans = min(ans, fun1(s[:i]) + fun1(s[i:]) + 1)\n",
    "    return ans\n",
    "print(fun1('ACDCDCDAD'))\n",
    "\n",
    "# 递归解法转dp解法\n",
    "# dp[i]表示s[0:i+1]的最小分割数\n",
    "\n"
   ]
  },
  {
   "cell_type": "code",
   "execution_count": 61,
   "metadata": {},
   "outputs": [
    {
     "name": "stdout",
     "output_type": "stream",
     "text": [
      "False\n"
     ]
    }
   ],
   "source": [
    "\n",
    "# 字符串匹配问题\n",
    "def fun(s, exp):\n",
    "    # 判断s是否能够被exp匹配\n",
    "    # 1. 如果exp是空字符串，s也是空字符串才能匹配\n",
    "    # 2. 如果exp不是空字符串，则需要判断s是否能够被exp匹配\n",
    "    if exp == '':\n",
    "        return s == ''\n",
    "    if len(exp) == 1:\n",
    "        if exp == '.':\n",
    "            return len(s) == 1\n",
    "        else:\n",
    "            return s == exp\n",
    "    if s == '':\n",
    "        if exp[1] == '*':\n",
    "            return fun(s, exp[2:])\n",
    "        else:\n",
    "            return False\n",
    "    # 现在s不为空，且exp长度大于等于2\n",
    "    if exp[:2] == '.*':\n",
    "        for i in range(len(s)+1):\n",
    "            if fun(s[i:], exp[2:]):\n",
    "                return True\n",
    "    if exp[0] == '.':\n",
    "        return fun(s[1:], exp[1:])\n",
    "    if exp[1] == '*':\n",
    "        for i in range(len(s)+1):\n",
    "            if s[:i] == exp[0] * i and fun(s[i:], exp[2:]):\n",
    "                return True\n",
    "            elif s[:i] != exp[0] * i:\n",
    "                break\n",
    "    \n",
    "    return s[0] == exp[0] and fun(s[1:], exp[1:])\n",
    "\n",
    "# print(fun('aaaaaaaaaaaaaaaaaaab', 'a*a*a*a*a*a*a*a*a*a*'))\n",
    "# 使用动态规划优化字符串匹配，dp重构\n",
    "def isMatch(s, p):\n",
    "    m, n = len(s), len(p)\n",
    "    dp = [[False] * (n+1) for _ in range(m+1)] # dp[i][j]表示s[0:i]和p[0:j](左闭右开)是否匹配,因为需要包含空字符串的情况，所以横轴纵轴都+1\n",
    "    dp[0][0] = True\n",
    "    # 第0行 也就是s字符串为空的时候，dp[0][i] = True if p[i-1] == '*' and dp[0][i-2]\n",
    "    for i in range(1, n+1):\n",
    "        dp[0][i] = dp[0][i-2] if p[i-1] == '*' else False\n",
    "    # 开始dp的真实过程\n",
    "    for i in range(1, m+1):\n",
    "        for j in range(1, n+1):\n",
    "            if p[j - 1] == '.':\n",
    "                dp[i][j] = dp[i-1][j-1]\n",
    "            elif p[j - 1] == '*':\n",
    "                dp[i][j] = dp[i][j-2] # 匹配0次\n",
    "                if p[j-2] == '.' or p[j-2] == s[i-1]:\n",
    "                    dp[i][j] = dp[i][j] or dp[i-1][j] # 匹配1次或多次\n",
    "            elif s[i - 1] == p[j - 1]:\n",
    "                dp[i][j] = dp[i-1][j-1]\n",
    "\n",
    "    return dp[m][n]\n",
    "print(isMatch('aaaaaaaaaaaaaaaaaaab', 'a*a*a*a*a*a*a*a*a*a*'))\n",
    "\n"
   ]
  },
  {
   "cell_type": "code",
   "execution_count": 4,
   "metadata": {},
   "outputs": [
    {
     "name": "stdout",
     "output_type": "stream",
     "text": [
      "True\n",
      "False\n",
      "True\n",
      "True\n",
      "False\n",
      "True\n",
      "True\n"
     ]
    }
   ],
   "source": [
    "# 前缀字典数的实现\n",
    "# TridNode类 \n",
    "class TrieNode:\n",
    "    def __init__(self):\n",
    "        self.children = {}  # 存储子节点\n",
    "        self.is_end = False  # 标记是否是一个单词的结尾\n",
    "\n",
    "class Trie:\n",
    "    def __init__(self):\n",
    "        self.root = TrieNode()  # 创建根节点\n",
    "    \n",
    "    def insert(self, word: str) -> None:\n",
    "        node = self.root\n",
    "        for char in word:\n",
    "            if char not in node.children:\n",
    "                node.children[char] = TrieNode()\n",
    "            node = node.children[char]\n",
    "        node.is_end = True\n",
    "    \n",
    "    def search(self, word: str) -> bool:\n",
    "        node = self.root\n",
    "        for char in word:\n",
    "            if char not in node.children:\n",
    "                return False\n",
    "            node = node.children[char]\n",
    "        return node.is_end\n",
    "    \n",
    "    def startsWith(self, prefix: str) -> bool:\n",
    "        node = self.root\n",
    "        for char in prefix:\n",
    "            if char not in node.children:\n",
    "                return False\n",
    "            node = node.children[char]\n",
    "        return True\n",
    "    \n",
    "    def delete(self, word: str) -> None:\n",
    "        def _delete(node, word, index):\n",
    "            if index == len(word):\n",
    "                if not node.is_end:\n",
    "                    return False\n",
    "                node.is_end = False\n",
    "                return len(node.children) == 0\n",
    "            \n",
    "            char = word[index]\n",
    "            if char not in node.children:\n",
    "                return False\n",
    "            \n",
    "            should_delete = _delete(node.children[char], word, index + 1)\n",
    "            \n",
    "            if should_delete:\n",
    "                del node.children[char]\n",
    "                return len(node.children) == 0 and not node.is_end\n",
    "            return False\n",
    "        \n",
    "        _delete(self.root, word, 0)\n",
    "\n",
    "# Test case for Trie operations\n",
    "trie = Trie()\n",
    "trie.insert(\"apple\")\n",
    "print(trie.search(\"apple\"))   # Output: True\n",
    "print(trie.search(\"app\"))     # Output: False\n",
    "print(trie.startsWith(\"app\")) # Output: True\n",
    "trie.insert(\"app\")\n",
    "print(trie.search(\"app\"))     # Output: True\n",
    "trie.delete(\"apple\")\n",
    "print(trie.search(\"apple\"))   # Output: False\n",
    "print(trie.search(\"app\"))     # Output: True\n",
    "print(trie.startsWith(\"app\")) # Output: True\n"
   ]
  },
  {
   "cell_type": "code",
   "execution_count": null,
   "metadata": {},
   "outputs": [
    {
     "name": "stdout",
     "output_type": "stream",
     "text": [
      "方法三：数组 [-2, 1, -3, 4, -1, 2, 1, -5, 4] 的最大子数组和是: 6\n"
     ]
    }
   ],
   "source": [
    "import heapq\n",
    "\n",
    "def find_kth_smallest_heap(nums, k):\n",
    "    \"\"\"\n",
    "    通过最大堆找到数组中第 K 小的元素。\n",
    "\n",
    "    参数:\n",
    "    nums (list[int]): 输入的无序数组。\n",
    "    k (int): K值。\n",
    "    \"\"\"\n",
    "    max_heap = []\n",
    "    for num in nums:\n",
    "        # 将元素的相反数存入，模拟最大堆\n",
    "        neg_num = -num\n",
    "        if len(max_heap) < k:\n",
    "            heapq.heappush(max_heap, neg_num)\n",
    "        # 如果当前元素比堆中的最大值（即相反数最小的值）要小\n",
    "        elif neg_num > max_heap[0]: # 等价于 num < -max_heap[0]\n",
    "            # heappushpop 是先 push 再 pop，更高效\n",
    "            heapq.heappushpop(max_heap, neg_num)\n",
    "            \n",
    "    # 堆顶元素的相反数就是第 K 小的值\n",
    "    return -max_heap[0]\n",
    "\n",
    "# --- 示例 ---\n",
    "arr = [3, 2, 1, 5, 6, 4]\n",
    "k = 2\n",
    "print(f\"方法二：数组 {arr} 中第 {k} 小的数是: {find_kth_smallest_heap(arr, k)}\") # 应输出 2"
   ]
  },
  {
   "cell_type": "code",
   "execution_count": 3,
   "metadata": {},
   "outputs": [
    {
     "name": "stdout",
     "output_type": "stream",
     "text": [
      "方法三：数组 [-2, 1, -3, 4, -1, 2, 1, -5, 4] 的最大子数组和是: 6\n"
     ]
    }
   ],
   "source": [
    "def max_subarray_divide_conquer(nums):\n",
    "    \"\"\"\n",
    "    使用分治法找到最大子数组和。\n",
    "    \"\"\"\n",
    "    def find_max(arr, left, right):\n",
    "        # 基本情况：如果只有一个元素，直接返回\n",
    "        if left == right:\n",
    "            return arr[left]\n",
    "\n",
    "        mid = (left + right) // 2\n",
    "\n",
    "        # 1. 递归求解左半部分\n",
    "        left_max = find_max(arr, left, mid)\n",
    "        # 2. 递归求解右半部分\n",
    "        right_max = find_max(arr, mid + 1, right)\n",
    "\n",
    "        # 3. 求解跨越中点的最大子数组和\n",
    "        # 从 mid 向左扫描\n",
    "        left_cross_sum = float('-inf')\n",
    "        current_sum = 0\n",
    "        for i in range(mid, left - 1, -1):\n",
    "            current_sum += arr[i]\n",
    "            left_cross_sum = max(left_cross_sum, current_sum)\n",
    "        \n",
    "        # 从 mid+1 向右扫描\n",
    "        right_cross_sum = float('-inf')\n",
    "        current_sum = 0\n",
    "        for i in range(mid + 1, right + 1):\n",
    "            current_sum += arr[i]\n",
    "            right_cross_sum = max(right_cross_sum, current_sum)\n",
    "            \n",
    "        cross_max = left_cross_sum + right_cross_sum\n",
    "        \n",
    "        return max(left_max, right_max, cross_max)\n",
    "\n",
    "    if not nums:\n",
    "        return 0\n",
    "    return find_max(nums, 0, len(nums) - 1)\n",
    "\n",
    "# --- 示例 ---\n",
    "arr = [-2, 1, -3, 4, -1, 2, 1, -5, 4]\n",
    "print(f\"方法三：数组 {arr} 的最大子数组和是: {max_subarray_divide_conquer(arr)}\") # 应输出 6"
   ]
  },
  {
   "cell_type": "code",
   "execution_count": 4,
   "metadata": {},
   "outputs": [
    {
     "name": "stdout",
     "output_type": "stream",
     "text": [
      "方法一：凑成 5 元的方法数: 3\n"
     ]
    }
   ],
   "source": [
    "def count_ways_recursive(coins, counts, amount):\n",
    "    \"\"\"\n",
    "    暴力递归解法\n",
    "    \"\"\"\n",
    "    def process(index, rest):\n",
    "        # Base Case 1: 成功凑出\n",
    "        if rest == 0:\n",
    "            return 1\n",
    "        \n",
    "        # Base Case 2: 钱不够或没有货币种类可选了\n",
    "        if index == len(coins) or rest < 0:\n",
    "            return 0\n",
    "\n",
    "        # 当前货币的面值和可用张数\n",
    "        current_coin_value = coins[index]\n",
    "        current_coin_count = counts[index]\n",
    "        \n",
    "        ways = 0\n",
    "        # 遍历当前货币使用的所有可能张数 (从 0 张到 k 张)\n",
    "        for k in range(current_coin_count + 1):\n",
    "            if rest - k * current_coin_value >= 0:\n",
    "                # 对于每一种选择，递归地去求解后续问题\n",
    "                ways += process(index + 1, rest - k * current_coin_value)\n",
    "            else:\n",
    "                # 如果当前张数已经超过剩余金额，后续的更多张数也必然超过\n",
    "                break\n",
    "        \n",
    "        return ways\n",
    "\n",
    "    return process(0, amount)\n",
    "\n",
    "# --- 示例 ---\n",
    "coins = [1, 2, 5]\n",
    "counts = [3, 2, 1] # 3张1元, 2张2元, 1张5元\n",
    "amount = 5\n",
    "print(f\"方法一：凑成 {amount} 元的方法数: {count_ways_recursive(coins, counts, amount)}\")\n",
    "# 应该有4种: 5, 1+1+1+2, 1+2+2, 1+4(不行), 2+1+1+1\n",
    "# 5\n",
    "# 1+2+2\n",
    "# 1+1+1+2\n",
    "# 1+1+... 不行\n",
    "# 2+...\n",
    "# 正确结果应该是 3 种: (5), (1, 2, 2), (1, 1, 2, 1) -> (1,1,1,2), \n",
    "# 让我们手动列举:\n",
    "# 1. 5 (1张5元)\n",
    "# 2. 2+2+1 (2张2元, 1张1元)\n",
    "# 3. 2+1+1+1 (1张2元, 3张1元)\n",
    "# 结果应为 3"
   ]
  },
  {
   "cell_type": "code",
   "execution_count": 5,
   "metadata": {},
   "outputs": [
    {
     "name": "stdout",
     "output_type": "stream",
     "text": [
      "方法一：数组 [1, 3, 4, 2, 5] 的小和是: 16\n"
     ]
    }
   ],
   "source": [
    "def small_sum_brute_force(nums):\n",
    "    \"\"\"\n",
    "    使用暴力解法计算数组小和。\n",
    "    \"\"\"\n",
    "    if not nums or len(nums) < 2:\n",
    "        return 0\n",
    "    \n",
    "    total_small_sum = 0\n",
    "    for i in range(len(nums)):\n",
    "        for j in range(i): # 遍历 i 左边的所有元素\n",
    "            if nums[j] <= nums[i]:\n",
    "                total_small_sum += nums[j]\n",
    "    \n",
    "    return total_small_sum\n",
    "\n",
    "# --- 示例 ---\n",
    "arr = [1, 3, 4, 2, 5]\n",
    "print(f\"方法一：数组 {arr} 的小和是: {small_sum_brute_force(arr)}\") # 应输出 16"
   ]
  }
 ],
 "metadata": {
  "kernelspec": {
   "display_name": "Python 3",
   "language": "python",
   "name": "python3"
  },
  "language_info": {
   "codemirror_mode": {
    "name": "ipython",
    "version": 3
   },
   "file_extension": ".py",
   "mimetype": "text/x-python",
   "name": "python",
   "nbconvert_exporter": "python",
   "pygments_lexer": "ipython3",
   "version": "3.9.7"
  }
 },
 "nbformat": 4,
 "nbformat_minor": 2
}
