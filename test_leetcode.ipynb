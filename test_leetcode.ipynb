{
 "cells": [
  {
   "cell_type": "code",
   "execution_count": 8,
   "metadata": {},
   "outputs": [
    {
     "name": "stdout",
     "output_type": "stream",
     "text": [
      "13\n"
     ]
    }
   ],
   "source": [
    "# \"0\"字符左边必有\"1\"字符的字符串数量\n",
    "N = input()\n",
    "dp = [0] * (int(N) + 1)\n",
    "dp[1] = 1\n",
    "dp[2] = 2\n",
    "dp[3] = 3\n",
    "for i in range(4, int(N) + 1):\n",
    "    # 如果当前字符是\"1\", dp[i] = dp[i-1]为1的可能 + dp[i-1]为0的可能\n",
    "    # 如果当前字符是\"0\", 不可能有这种情况\n",
    "    # 那么，dp[i-1]为1的可能就是dp[i-1], dp[i-1]为0的可能就是dp[i-2]\n",
    "    dp[i] = dp[i-1] + dp[i-2]\n",
    "print(dp[int(N)])\n",
    "\n",
    "# 经发现上一个公式就是斐波那契额数列，优化解法可以直接使用斐波那契的快速幂解法\n"
   ]
  },
  {
   "cell_type": "code",
   "execution_count": 4,
   "metadata": {},
   "outputs": [
    {
     "name": "stdout",
     "output_type": "stream",
     "text": [
      "bab\n"
     ]
    }
   ],
   "source": [
    "# 拼接所有字符串产生字典顺序最小的字符串\n",
    "strs = input().split(',')\n",
    "from functools import cmp_to_key\n",
    "strs = sorted(strs, key=cmp_to_key(lambda x, y: -1 if x+y < y+x else 1))\n",
    "print(''.join(strs))\n",
    "\n"
   ]
  },
  {
   "cell_type": "code",
   "execution_count": 6,
   "metadata": {},
   "outputs": [
    {
     "name": "stdout",
     "output_type": "stream",
     "text": [
      "4\n",
      "4\n"
     ]
    }
   ],
   "source": [
    "# 最长无重复字符子串\n",
    "s = input()\n",
    "max_len = 0\n",
    "for i in range(len(s)):\n",
    "    for j in range(i+1, len(s)):\n",
    "        if s[j] in s[i:j]:\n",
    "            break\n",
    "        max_len = max(max_len, j-i+1)\n",
    "print(max_len)\n",
    "\n",
    "\n",
    "# 双指针 + hashset\n",
    "char_set = set()\n",
    "left = 0\n",
    "for right in range(len(s)):\n",
    "    while s[right] in char_set:\n",
    "        char_set.remove(s[left])\n",
    "        left += 1\n",
    "    char_set.add(s[right])\n",
    "    max_len = max(max_len, right - left + 1)\n",
    "print(max_len)\n",
    "\n",
    "\n"
   ]
  },
  {
   "cell_type": "code",
   "execution_count": null,
   "metadata": {},
   "outputs": [],
   "source": [
    "# 最小包含子串的长度\n",
    "str1 = \"abcde\"\n",
    "str2 = \"ac\"\n",
    "ans = 3\n",
    "str1 = \"12345\"\n",
    "str2 = \"344\"\n",
    "ans = 0\n",
    "\n",
    "# 用str2先创建一个字符次数字典，dict2\n",
    "# 然后用str1使用左右指针依次便利，右指针一直走，每走一步dict2就减一，如果走到了末尾左指针还没有动，说明满足不了条件，直接返回0\n",
    "# 如果走到中间，发现dict2里面的值都为0了，说明这个区间已经包含了str2的所有字符，然后左指针开始动，直到最开始把str2的字典值增加那个索引，开始计算min结果\n",
    "def fun(str1, str2):\n",
    "    # 用str2先创建一个字符次数字典，dict2\n",
    "    dict2 = {}\n",
    "    for char in str2:\n",
    "        dict2[char] = dict2.get(char, 0) + 1\n",
    "\n",
    "    left = 0\n",
    "    right = 0\n",
    "    min_len = float('inf')\n",
    "    formed = len(dict2)\n",
    "\n",
    "    while right < len(str1):\n",
    "        char = str1[right]\n",
    "        if char in dict2:\n",
    "            dict2[char] -= 1\n",
    "            if dict2[char] == 0:\n",
    "                formed -= 1\n",
    "\n",
    "        while formed == 0:\n",
    "            current_window_length = right - left + 1\n",
    "            if current_window_length < min_len:\n",
    "                min_len = current_window_length\n",
    "\n",
    "            left_char = str1[left]\n",
    "            if left_char in dict2:\n",
    "                dict2[left_char] += 1\n",
    "                if dict2[left_char] > 0:\n",
    "                    formed += 1\n",
    "            left += 1\n",
    "\n",
    "        right += 1\n",
    "\n",
    "    return min_len if min_len != float('inf') else 0"
   ]
  },
  {
   "cell_type": "code",
   "execution_count": 31,
   "metadata": {},
   "outputs": [
    {
     "name": "stdout",
     "output_type": "stream",
     "text": [
      "2\n"
     ]
    }
   ],
   "source": [
    "# 回文最小分割数\n",
    "# 把str全部切成回文子串的最小切割数\n",
    "# 1. 先需要一个判断是不是回文的函数，若果str1自己就是回文，不用切直接返回 0，如果不是回文，就从是回文那里切开，递归求解\n",
    "def fun1(s):\n",
    "    if s == s[::-1]:\n",
    "        return 0\n",
    "    ans = float('inf')\n",
    "    for i in range(1, len(s)):\n",
    "        ans = min(ans, fun1(s[:i]) + fun1(s[i:]) + 1)\n",
    "    return ans\n",
    "print(fun1('ACDCDCDAD'))\n",
    "\n",
    "# 递归解法转dp解法\n",
    "# dp[i]表示s[0:i+1]的最小分割数\n",
    "\n"
   ]
  },
  {
   "cell_type": "code",
   "execution_count": 59,
   "metadata": {},
   "outputs": [
    {
     "name": "stdout",
     "output_type": "stream",
     "text": [
      "False\n",
      "False\n"
     ]
    }
   ],
   "source": [
    "\n",
    "# 字符串匹配问题\n",
    "def fun(s, exp):\n",
    "    # 判断s是否能够被exp匹配\n",
    "    # 1. 如果exp是空字符串，s也是空字符串才能匹配\n",
    "    # 2. 如果exp不是空字符串，则需要判断s是否能够被exp匹配\n",
    "    if exp == '':\n",
    "        return s == ''\n",
    "    if len(exp) == 1:\n",
    "        if exp == '.':\n",
    "            return len(s) == 1\n",
    "        else:\n",
    "            return s == exp\n",
    "    if s == '':\n",
    "        if exp[1] == '*':\n",
    "            return fun(s, exp[2:])\n",
    "        else:\n",
    "            return False\n",
    "    # 现在s不为空，且exp长度大于等于2\n",
    "    if exp[:2] == '.*':\n",
    "        for i in range(len(s)+1):\n",
    "            if fun(s[i:], exp[2:]):\n",
    "                return True\n",
    "    if exp[0] == '.':\n",
    "        return fun(s[1:], exp[1:])\n",
    "    if exp[1] == '*':\n",
    "        for i in range(len(s)+1):\n",
    "            if s[:i] == exp[0] * i and fun(s[i:], exp[2:]):\n",
    "                return True\n",
    "            elif s[:i] != exp[0] * i:\n",
    "                break\n",
    "    \n",
    "    return s[0] == exp[0] and fun(s[1:], exp[1:])\n",
    "\n",
    "print(fun('aaaaaaaaaaaaaaaaaaab', 'a*a*a*a*a*a*a*a*a*a*'))\n",
    "# 使用动态规划优化字符串匹配，dp重构\n",
    "def isMatch(s, p):\n",
    "    m, n = len(s), len(p)\n",
    "    dp = [[False] * (n+1) for _ in range(m+1)] # dp[i][j]表示s[0:i]和p[0:j]是否匹配,因为需要包含空字符串的情况，所以横轴纵轴都+1\n",
    "    # dp数组初始化\n",
    "    \n",
    "\n",
    "    return dp[m][n]\n",
    "\n",
    "\n"
   ]
  },
  {
   "cell_type": "code",
   "execution_count": null,
   "metadata": {},
   "outputs": [],
   "source": []
  }
 ],
 "metadata": {
  "kernelspec": {
   "display_name": "Python 3",
   "language": "python",
   "name": "python3"
  },
  "language_info": {
   "codemirror_mode": {
    "name": "ipython",
    "version": 3
   },
   "file_extension": ".py",
   "mimetype": "text/x-python",
   "name": "python",
   "nbconvert_exporter": "python",
   "pygments_lexer": "ipython3",
   "version": "3.9.7"
  }
 },
 "nbformat": 4,
 "nbformat_minor": 2
}
